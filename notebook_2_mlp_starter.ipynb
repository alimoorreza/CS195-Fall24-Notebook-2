{
  "cells": [
    {
      "cell_type": "markdown",
      "metadata": {
        "id": "view-in-github",
        "colab_type": "text"
      },
      "source": [
        "<a href=\"https://colab.research.google.com/github/alimoorreza/CS195-Fall24-Notebook-2/blob/main/notebook_2_mlp_starter.ipynb\" target=\"_parent\"><img src=\"https://colab.research.google.com/assets/colab-badge.svg\" alt=\"Open In Colab\"/></a>"
      ]
    },
    {
      "cell_type": "markdown",
      "metadata": {
        "id": "HHJrUI0I4uVJ"
      },
      "source": [
        "# **CS195: Computer Vision, Fall 2024**\n",
        "## **Notebook 2 (Task#1):** Multilayer Perceptron (MLP)"
      ]
    },
    {
      "cell_type": "code",
      "source": [
        "# import torch library\n",
        "import torch\n",
        "import numpy as np\n",
        "import torch.nn as nn\n"
      ],
      "metadata": {
        "id": "LwgBlHEvJDEJ"
      },
      "execution_count": null,
      "outputs": []
    },
    {
      "cell_type": "markdown",
      "source": [
        "## **Question 1: Create an MLP with four layers connected one after the other, following these specifications:**\n",
        "\n",
        "\n",
        "> The first layer has 2 input nodes and 4 output nodes.\n",
        "\n",
        "> The second layer takes 4 input nodes and outputs 8 nodes.\n",
        "\n",
        "> The third layer connects 8 input nodes to 16 output nodes.\n",
        "\n",
        "> The final layer connects 16 input nodes to 2 output nodes.\n",
        "\n",
        "**Each layer, except the last one, should use the *ReLU()* activation function for its output nodes. The last layer should use the *Sigmoid()* activation function.**"
      ],
      "metadata": {
        "id": "K6snyzopmxi0"
      }
    },
    {
      "cell_type": "code",
      "source": [
        "# your code here\n",
        "# ...\n",
        "# ...\n",
        "# ..."
      ],
      "metadata": {
        "id": "WovTledem6Lw"
      },
      "execution_count": null,
      "outputs": []
    },
    {
      "cell_type": "markdown",
      "source": [
        "##**Question 2: Display the weights the first, second, third, and fourth layers of your MLP.**"
      ],
      "metadata": {
        "id": "LbUkNgH5x0uv"
      }
    },
    {
      "cell_type": "code",
      "source": [
        "# print the weights of the first layer\n",
        "# your code here\n",
        "# ...\n",
        "# ...\n",
        "# ..."
      ],
      "metadata": {
        "id": "N_8I5F12xzuC"
      },
      "execution_count": null,
      "outputs": []
    },
    {
      "cell_type": "code",
      "source": [
        "# print the weights of the second layer\n",
        "# your code here\n",
        "# ...\n",
        "# ...\n",
        "# ..."
      ],
      "metadata": {
        "id": "G9tY51ZhUhwm"
      },
      "execution_count": null,
      "outputs": []
    },
    {
      "cell_type": "code",
      "source": [
        "# print the weights of the third layer\n",
        "# your code here\n",
        "# ...\n",
        "# ...\n",
        "# ..."
      ],
      "metadata": {
        "id": "oHkcWmWaUrTu"
      },
      "execution_count": null,
      "outputs": []
    },
    {
      "cell_type": "code",
      "source": [
        "# print the weights of the final layer\n",
        "# your code here\n",
        "# ...\n",
        "# ...\n",
        "# ..."
      ],
      "metadata": {
        "id": "JFyxMy7rUyfS"
      },
      "execution_count": null,
      "outputs": []
    },
    {
      "cell_type": "markdown",
      "source": [
        "##**Question 2: How many weight parameters are in your MLP? In other words, what is the total size of your network?**\n",
        "> [Hint: Calculate the number of parameters in each layer and then add them all together.]"
      ],
      "metadata": {
        "id": "HbUIijShV01J"
      }
    },
    {
      "cell_type": "markdown",
      "source": [
        "### Your Answer\n",
        "> ..\n",
        ">\n",
        ">"
      ],
      "metadata": {
        "id": "cT5pUwStWG5H"
      }
    },
    {
      "cell_type": "markdown",
      "source": [
        "## **Question 3: Generate a random input for your MLP and calculate the output.**"
      ],
      "metadata": {
        "id": "9-8gky6gn2rW"
      }
    },
    {
      "cell_type": "code",
      "source": [
        "# your code here\n",
        "# ...\n",
        "# ...\n",
        "# ..."
      ],
      "metadata": {
        "id": "l2V0Gyc3oBzz"
      },
      "execution_count": null,
      "outputs": []
    },
    {
      "cell_type": "markdown",
      "source": [
        "## **Question 4: Please, answer the following question.**\n",
        "> Change the value in `torch.manual_seed(0)` to something else, generate new inputs, and pass the tensor through your network. Observe the output values. Can the final output nodes have a value greater than 1.0? If your answer is **yes,** explain why. If your answer is **no,** explain why not."
      ],
      "metadata": {
        "id": "ZI0i8vi7X-wD"
      }
    },
    {
      "cell_type": "markdown",
      "source": [
        "### Your Answer\n",
        ">\n",
        "> ..\n",
        "> .."
      ],
      "metadata": {
        "id": "j9Gt32RwZLO9"
      }
    },
    {
      "cell_type": "markdown",
      "source": [
        "## **Question 5: Please, draw the picture of your MLP.**\n",
        "> You can draw the diagram on paper and then either scan/take a photo it, or use any drawing tool to create it.\n",
        "\n",
        "> Please show the connectivity structure between the nodes in each layer. What do these connections represent?"
      ],
      "metadata": {
        "id": "M-9hTD1Ca_X0"
      }
    }
  ],
  "metadata": {
    "celltoolbar": "Slideshow",
    "kernelspec": {
      "display_name": "Python 3",
      "name": "python3"
    },
    "language_info": {
      "codemirror_mode": {
        "name": "ipython",
        "version": 3
      },
      "file_extension": ".py",
      "mimetype": "text/x-python",
      "name": "python",
      "nbconvert_exporter": "python",
      "pygments_lexer": "ipython3",
      "version": "3.8.3"
    },
    "colab": {
      "provenance": [],
      "gpuType": "T4",
      "include_colab_link": true
    },
    "accelerator": "GPU"
  },
  "nbformat": 4,
  "nbformat_minor": 0
}