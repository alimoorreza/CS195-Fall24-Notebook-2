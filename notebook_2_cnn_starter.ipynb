{
  "cells": [
    {
      "cell_type": "markdown",
      "metadata": {
        "id": "view-in-github",
        "colab_type": "text"
      },
      "source": [
        "<a href=\"https://colab.research.google.com/github/alimoorreza/CS195-Fall24-Notebook-2/blob/main/notebook_2_cnn_starter.ipynb\" target=\"_parent\"><img src=\"https://colab.research.google.com/assets/colab-badge.svg\" alt=\"Open In Colab\"/></a>"
      ]
    },
    {
      "cell_type": "markdown",
      "metadata": {
        "id": "HHJrUI0I4uVJ"
      },
      "source": [
        "# **CS195: Computer Vision, Fall 2024**\n",
        "## **Notebook 2 (Task#2):** Convoluational Neural Network (CNN)"
      ]
    },
    {
      "cell_type": "code",
      "source": [
        "# import torch library\n",
        "import torch\n",
        "import numpy as np\n",
        "import torch.nn as nn\n"
      ],
      "metadata": {
        "id": "LwgBlHEvJDEJ"
      },
      "execution_count": null,
      "outputs": []
    },
    {
      "cell_type": "markdown",
      "source": [
        "## **Question 1: create a CNN with four conv2d layers and connect them in a sequence following the specifications below:**\n",
        "\n",
        "\n",
        "First convolution layer has:\n",
        "  > its input volume has 3 channels\n",
        "\n",
        "  > the output volume will be of 4 channels\n",
        "\n",
        "  > each filter has a size of (3x3)\n",
        "\n",
        "Second convolution layer has:\n",
        "  > its input volume has 4 channels\n",
        "\n",
        "  > the output volume will be of 8 channels\n",
        "\n",
        "  > each filter has a size of (3x3)\n",
        "\n",
        "Third convolution layer has:\n",
        "  > its input volume has 8 channels\n",
        "\n",
        "  > the output volume will be of 16 channels\n",
        "\n",
        "  > each filter has a size of (3x3)\n",
        "\n",
        "Fourth convolution layer has:\n",
        "  > its input volume has 16 channels\n",
        "\n",
        "  > the output volume will be of 32 channels\n",
        "\n",
        "  > each filter has a size of (3x3)\n",
        "\n",
        "**Each layer, except the last one, should use the *ReLU()* activation function for its output nodes. The last layer should use the *Sigmoid()* activation function.**\n",
        "**Use a default stride size is 1 (don't need to change)**\n",
        "**Use a default padding size is 0 (don't need to change)**\n",
        "> [Reference: nn.Conv2d()](https://pytorch.org/docs/stable/generated/torch.nn.Conv2d.html)\n"
      ],
      "metadata": {
        "id": "K6snyzopmxi0"
      }
    },
    {
      "cell_type": "code",
      "source": [
        "# your code here\n",
        "# ...\n",
        "# ...\n",
        "# ..."
      ],
      "metadata": {
        "id": "WovTledem6Lw"
      },
      "execution_count": null,
      "outputs": []
    },
    {
      "cell_type": "markdown",
      "source": [
        "##**Question 2: Display the weights of these four convolution layers of your CNN.**"
      ],
      "metadata": {
        "id": "J2Vd7i1cOUQe"
      }
    },
    {
      "cell_type": "code",
      "source": [
        "# print the weights of the first layer\n",
        "# your code here\n",
        "# ...\n",
        "# ...\n",
        "# ..."
      ],
      "metadata": {
        "collapsed": true,
        "id": "t_v_9SaTOY7l"
      },
      "execution_count": null,
      "outputs": []
    },
    {
      "cell_type": "code",
      "source": [
        "# print the weights of the second layer\n",
        "# your code here\n",
        "# ...\n",
        "# ...\n",
        "# ..."
      ],
      "metadata": {
        "id": "7MrJ2QWNdvQ3"
      },
      "execution_count": null,
      "outputs": []
    },
    {
      "cell_type": "code",
      "source": [
        "# print the weights of the third layer\n",
        "# your code here\n",
        "# ...\n",
        "# ...\n",
        "# ..."
      ],
      "metadata": {
        "id": "Fa7bVApOdvrP"
      },
      "execution_count": null,
      "outputs": []
    },
    {
      "cell_type": "code",
      "source": [
        "# print the weights of the fourth layer\n",
        "# your code here\n",
        "# ...\n",
        "# ...\n",
        "# ..."
      ],
      "metadata": {
        "id": "lZmr6Xp-L0xc"
      },
      "execution_count": null,
      "outputs": []
    },
    {
      "cell_type": "markdown",
      "source": [
        "##**Question 3: How many weight parameters are there in your CNN? In other words, what is the total size of your network?**\n",
        "> [Hint: Calculate the number of parameters in each layer and then add them all together.]"
      ],
      "metadata": {
        "id": "zo3XgBikd-9t"
      }
    },
    {
      "cell_type": "markdown",
      "source": [
        "##**Question 4: Generate a random input for your CNN and calculate the output.**"
      ],
      "metadata": {
        "id": "9-8gky6gn2rW"
      }
    },
    {
      "cell_type": "code",
      "source": [
        "# your code here\n",
        "# ...\n",
        "# ...\n",
        "# ..."
      ],
      "metadata": {
        "id": "l2V0Gyc3oBzz"
      },
      "execution_count": null,
      "outputs": []
    },
    {
      "cell_type": "markdown",
      "source": [
        "## **Question 5: Please draw a diagram of your CNN.**\n",
        "> You can draw the diagram on paper and then either scan/take a photo it, or use any drawing tool to create it.\n",
        "\n",
        "> Please show the connectivity structure between the nodes in each layer. What do these connections represent?"
      ],
      "metadata": {
        "id": "5fwJ9RM3gTsH"
      }
    }
  ],
  "metadata": {
    "celltoolbar": "Slideshow",
    "kernelspec": {
      "display_name": "Python 3",
      "name": "python3"
    },
    "language_info": {
      "codemirror_mode": {
        "name": "ipython",
        "version": 3
      },
      "file_extension": ".py",
      "mimetype": "text/x-python",
      "name": "python",
      "nbconvert_exporter": "python",
      "pygments_lexer": "ipython3",
      "version": "3.8.3"
    },
    "colab": {
      "provenance": [],
      "gpuType": "T4",
      "include_colab_link": true
    },
    "accelerator": "GPU"
  },
  "nbformat": 4,
  "nbformat_minor": 0
}